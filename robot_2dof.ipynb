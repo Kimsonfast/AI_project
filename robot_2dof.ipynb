{
  "nbformat": 4,
  "nbformat_minor": 0,
  "metadata": {
    "colab": {
      "name": "robot_2dof.ipynb",
      "provenance": [],
      "collapsed_sections": [],
      "include_colab_link": true
    },
    "kernelspec": {
      "name": "python3",
      "display_name": "Python 3"
    },
    "language_info": {
      "name": "python"
    },
    "accelerator": "GPU"
  },
  "cells": [
    {
      "cell_type": "markdown",
      "metadata": {
        "id": "view-in-github",
        "colab_type": "text"
      },
      "source": [
        "<a href=\"https://colab.research.google.com/github/Kimsonfast/AI_project/blob/main/robot_2dof.ipynb\" target=\"_parent\"><img src=\"https://colab.research.google.com/assets/colab-badge.svg\" alt=\"Open In Colab\"/></a>"
      ]
    },
    {
      "cell_type": "markdown",
      "source": [
        "Import Library"
      ],
      "metadata": {
        "id": "Oi8ww2GTQzfz"
      }
    },
    {
      "cell_type": "code",
      "execution_count": null,
      "metadata": {
        "id": "vPWFmU1bQdXB"
      },
      "outputs": [],
      "source": [
        "from re import U\n",
        "import matplotlib.pyplot as plt\n",
        "from math import sin, cos, radians\n",
        "import csv\n",
        "import numpy as np\n",
        "import pandas as pd\n",
        "from keras.layers import Dense,Dropout\n",
        "from sklearn.linear_model import Perceptron\n",
        "from sklearn.model_selection import train_test_split\n",
        "from sklearn.metrics import accuracy_score\n",
        "import tensorflow as tf\n",
        "from tensorflow.keras.optimizers import Adam\n",
        "import keras \n",
        "from keras.models import Sequential\n",
        "from tensorflow.keras.optimizers import RMSprop"
      ]
    },
    {
      "cell_type": "markdown",
      "source": [
        "Create data for file csv"
      ],
      "metadata": {
        "id": "n7-0DWajQ8Au"
      }
    },
    {
      "cell_type": "code",
      "source": [
        "u =[]\n",
        "for i in range(0,181,1):\n",
        "  z=[]\n",
        "  for j in range(0,181,1):\n",
        "    Px=50*cos(radians(i))+40*cos(radians(i+j))\n",
        "    Py=50*sin(radians(i))+40*sin(radians(i+j))\n",
        "    z.append(np.array((i,j,Px,Py)))\n",
        "  u.extend(z)"
      ],
      "metadata": {
        "id": "1c7tbWQgQ7uM"
      },
      "execution_count": null,
      "outputs": []
    },
    {
      "cell_type": "markdown",
      "source": [
        "Create file"
      ],
      "metadata": {
        "id": "c1bg6oIeXkLn"
      }
    },
    {
      "cell_type": "code",
      "source": [
        "header = ['alpha', 'beta', 'Px', 'Py']\n",
        "#header = [ 'x', 'y']\n",
        "with open('robot_2dof.csv', 'w', encoding='UTF8', newline='') as f:\n",
        "    writer = csv.writer(f)\n",
        "\n",
        "    # write the header\n",
        "    writer.writerow(header)\n",
        "\n",
        "    # write multiple rows\n",
        "    writer.writerows(u)"
      ],
      "metadata": {
        "id": "V-aQV95jS52h"
      },
      "execution_count": null,
      "outputs": []
    },
    {
      "cell_type": "code",
      "source": [
        "data = pd.read_csv('robot_2dof.csv')\n",
        "data.shape\n",
        "numpy_dataset = data.values\n",
        "y=numpy_dataset[:,:2]\n",
        "x=numpy_dataset[:,2:]\n",
        "x=(x+90)/180\n",
        "y=(y+180)/360\n",
        "x_train,x_test,y_train,y_test = train_test_split(x,y,test_size=0.20)\n",
        "print(x_train[0])\n",
        "print(y_train[0])"
      ],
      "metadata": {
        "colab": {
          "base_uri": "https://localhost:8080/"
        },
        "id": "4IBaDQ6AXzgD",
        "outputId": "35c6f337-e096-4791-e187-7b128c4b8679"
      },
      "execution_count": null,
      "outputs": [
        {
          "output_type": "stream",
          "name": "stdout",
          "text": [
            "[0.73533126 0.93636282]\n",
            "[0.65277778 0.54166667]\n"
          ]
        }
      ]
    },
    {
      "cell_type": "code",
      "source": [
        "# Reshape Data\n",
        "x_train = x_train.reshape(x_train.shape[0], -1)\n",
        "x_test = x_test.reshape(x_test.shape[0], -1)\n",
        "\n",
        "# Preprocessing Data\n",
        "x_train = x_train.astype('float32')\n",
        "x_test = x_test.astype('float32')\n",
        "print(x_train)\n",
        "print(x_train.shape)\n",
        "print(y_train.shape)"
      ],
      "metadata": {
        "colab": {
          "base_uri": "https://localhost:8080/"
        },
        "id": "XOgPB003YCrk",
        "outputId": "ddf199b9-1821-4ad4-9952-a00be8fa4265"
      },
      "execution_count": null,
      "outputs": [
        {
          "output_type": "stream",
          "name": "stdout",
          "text": [
            "[[0.75121665 0.17808889]\n",
            " [0.20292222 0.9006778 ]\n",
            " [0.07160556 0.46868888]\n",
            " ...\n",
            " [0.6566667  0.80206114]\n",
            " [0.7515278  0.9317778 ]\n",
            " [0.17785    0.18305   ]]\n",
            "(104256, 2)\n",
            "(104256, 2)\n"
          ]
        }
      ]
    },
    {
      "cell_type": "markdown",
      "source": [
        "Create Model"
      ],
      "metadata": {
        "id": "aMnhDZ3sZbo0"
      }
    },
    {
      "cell_type": "code",
      "source": [
        "model=Sequential()\n",
        "model.add(Dense(128,kernel_initializer='normal', activation='relu',input_shape=(2,)))\n",
        "model.add(Dense(64,activation='relu'))\n",
        "model.add(Dense(32,activation='relu'))\n",
        "model.add(Dense(16,activation='relu'))\n",
        "model.add(Dense(2,activation='softmax'))\n",
        "model.summary()"
      ],
      "metadata": {
        "colab": {
          "base_uri": "https://localhost:8080/"
        },
        "id": "8iQPPedJZepD",
        "outputId": "d22ac8bf-65ce-4956-ab28-8f0e2bec60a5"
      },
      "execution_count": null,
      "outputs": [
        {
          "output_type": "stream",
          "name": "stdout",
          "text": [
            "Model: \"sequential_2\"\n",
            "_________________________________________________________________\n",
            " Layer (type)                Output Shape              Param #   \n",
            "=================================================================\n",
            " dense_10 (Dense)            (None, 128)               384       \n",
            "                                                                 \n",
            " dense_11 (Dense)            (None, 64)                8256      \n",
            "                                                                 \n",
            " dense_12 (Dense)            (None, 32)                2080      \n",
            "                                                                 \n",
            " dense_13 (Dense)            (None, 16)                528       \n",
            "                                                                 \n",
            " dense_14 (Dense)            (None, 2)                 34        \n",
            "                                                                 \n",
            "=================================================================\n",
            "Total params: 11,282\n",
            "Trainable params: 11,282\n",
            "Non-trainable params: 0\n",
            "_________________________________________________________________\n"
          ]
        }
      ]
    },
    {
      "cell_type": "markdown",
      "source": [
        "**Training model**"
      ],
      "metadata": {
        "id": "K0WWLenjZ3eI"
      }
    },
    {
      "cell_type": "code",
      "source": [
        "model.compile(loss = 'mse',optimizer = 'Adam', metrics=['accuracy'])\n",
        "history = model.fit(x_train,y_train,batch_size = 32, epochs = 50, verbose = 1, validation_split = 0.2)"
      ],
      "metadata": {
        "colab": {
          "base_uri": "https://localhost:8080/"
        },
        "id": "A-rm6KeJZ2zI",
        "outputId": "f33e62e7-d59c-411c-9d45-b08b8ebb2664"
      },
      "execution_count": null,
      "outputs": [
        {
          "output_type": "stream",
          "name": "stdout",
          "text": [
            "Epoch 1/50\n",
            "656/656 [==============================] - 4s 5ms/step - loss: 0.0749 - accuracy: 0.8849 - val_loss: 0.0745 - val_accuracy: 0.9498\n",
            "Epoch 2/50\n",
            "656/656 [==============================] - 3s 5ms/step - loss: 0.0733 - accuracy: 0.9509 - val_loss: 0.0744 - val_accuracy: 0.9580\n",
            "Epoch 3/50\n",
            "656/656 [==============================] - 3s 5ms/step - loss: 0.0732 - accuracy: 0.9642 - val_loss: 0.0743 - val_accuracy: 0.9643\n",
            "Epoch 4/50\n",
            "656/656 [==============================] - 3s 5ms/step - loss: 0.0732 - accuracy: 0.9690 - val_loss: 0.0742 - val_accuracy: 0.9775\n",
            "Epoch 5/50\n",
            "656/656 [==============================] - 3s 5ms/step - loss: 0.0732 - accuracy: 0.9711 - val_loss: 0.0746 - val_accuracy: 0.9365\n",
            "Epoch 6/50\n",
            "656/656 [==============================] - 3s 5ms/step - loss: 0.0732 - accuracy: 0.9707 - val_loss: 0.0742 - val_accuracy: 0.9750\n",
            "Epoch 7/50\n",
            "656/656 [==============================] - 3s 5ms/step - loss: 0.0732 - accuracy: 0.9733 - val_loss: 0.0743 - val_accuracy: 0.9588\n",
            "Epoch 8/50\n",
            "656/656 [==============================] - 3s 5ms/step - loss: 0.0732 - accuracy: 0.9755 - val_loss: 0.0742 - val_accuracy: 0.9840\n",
            "Epoch 9/50\n",
            "656/656 [==============================] - 3s 5ms/step - loss: 0.0731 - accuracy: 0.9754 - val_loss: 0.0742 - val_accuracy: 0.9853\n",
            "Epoch 10/50\n",
            "656/656 [==============================] - 3s 5ms/step - loss: 0.0732 - accuracy: 0.9715 - val_loss: 0.0743 - val_accuracy: 0.9573\n",
            "Epoch 11/50\n",
            "656/656 [==============================] - 3s 5ms/step - loss: 0.0731 - accuracy: 0.9760 - val_loss: 0.0742 - val_accuracy: 0.9821\n",
            "Epoch 12/50\n",
            "656/656 [==============================] - 3s 5ms/step - loss: 0.0731 - accuracy: 0.9768 - val_loss: 0.0742 - val_accuracy: 0.9689\n",
            "Epoch 13/50\n",
            "656/656 [==============================] - 3s 5ms/step - loss: 0.0732 - accuracy: 0.9746 - val_loss: 0.0742 - val_accuracy: 0.9809\n",
            "Epoch 14/50\n",
            "656/656 [==============================] - 3s 5ms/step - loss: 0.0731 - accuracy: 0.9800 - val_loss: 0.0743 - val_accuracy: 0.9561\n",
            "Epoch 15/50\n",
            "656/656 [==============================] - 3s 5ms/step - loss: 0.0731 - accuracy: 0.9772 - val_loss: 0.0743 - val_accuracy: 0.9632\n",
            "Epoch 16/50\n",
            "656/656 [==============================] - 3s 5ms/step - loss: 0.0731 - accuracy: 0.9771 - val_loss: 0.0742 - val_accuracy: 0.9769\n",
            "Epoch 17/50\n",
            "656/656 [==============================] - 3s 4ms/step - loss: 0.0732 - accuracy: 0.9734 - val_loss: 0.0745 - val_accuracy: 0.9311\n",
            "Epoch 18/50\n",
            "656/656 [==============================] - 3s 5ms/step - loss: 0.0731 - accuracy: 0.9793 - val_loss: 0.0743 - val_accuracy: 0.9664\n",
            "Epoch 19/50\n",
            "656/656 [==============================] - 3s 5ms/step - loss: 0.0731 - accuracy: 0.9762 - val_loss: 0.0743 - val_accuracy: 0.9672\n",
            "Epoch 20/50\n",
            "656/656 [==============================] - 3s 5ms/step - loss: 0.0731 - accuracy: 0.9777 - val_loss: 0.0743 - val_accuracy: 0.9641\n",
            "Epoch 21/50\n",
            "656/656 [==============================] - 4s 7ms/step - loss: 0.0731 - accuracy: 0.9806 - val_loss: 0.0742 - val_accuracy: 0.9798\n",
            "Epoch 22/50\n",
            "656/656 [==============================] - 3s 5ms/step - loss: 0.0731 - accuracy: 0.9807 - val_loss: 0.0742 - val_accuracy: 0.9697\n",
            "Epoch 23/50\n",
            "656/656 [==============================] - 3s 5ms/step - loss: 0.0731 - accuracy: 0.9770 - val_loss: 0.0742 - val_accuracy: 0.9687\n",
            "Epoch 24/50\n",
            "656/656 [==============================] - 3s 5ms/step - loss: 0.0731 - accuracy: 0.9792 - val_loss: 0.0742 - val_accuracy: 0.9790\n",
            "Epoch 25/50\n",
            "656/656 [==============================] - 3s 5ms/step - loss: 0.0731 - accuracy: 0.9807 - val_loss: 0.0743 - val_accuracy: 0.9639\n",
            "Epoch 26/50\n",
            "656/656 [==============================] - 3s 5ms/step - loss: 0.0731 - accuracy: 0.9783 - val_loss: 0.0742 - val_accuracy: 0.9773\n",
            "Epoch 27/50\n",
            "656/656 [==============================] - 3s 5ms/step - loss: 0.0731 - accuracy: 0.9795 - val_loss: 0.0743 - val_accuracy: 0.9748\n",
            "Epoch 28/50\n",
            "656/656 [==============================] - 3s 5ms/step - loss: 0.0731 - accuracy: 0.9798 - val_loss: 0.0742 - val_accuracy: 0.9643\n",
            "Epoch 29/50\n",
            "656/656 [==============================] - 3s 5ms/step - loss: 0.0731 - accuracy: 0.9826 - val_loss: 0.0742 - val_accuracy: 0.9784\n",
            "Epoch 30/50\n",
            "656/656 [==============================] - 3s 5ms/step - loss: 0.0731 - accuracy: 0.9821 - val_loss: 0.0742 - val_accuracy: 0.9889\n",
            "Epoch 31/50\n",
            "656/656 [==============================] - 3s 5ms/step - loss: 0.0731 - accuracy: 0.9782 - val_loss: 0.0742 - val_accuracy: 0.9695\n",
            "Epoch 32/50\n",
            "656/656 [==============================] - 3s 5ms/step - loss: 0.0731 - accuracy: 0.9803 - val_loss: 0.0743 - val_accuracy: 0.9678\n",
            "Epoch 33/50\n",
            "656/656 [==============================] - 3s 5ms/step - loss: 0.0731 - accuracy: 0.9801 - val_loss: 0.0742 - val_accuracy: 0.9763\n",
            "Epoch 34/50\n",
            "656/656 [==============================] - 3s 5ms/step - loss: 0.0731 - accuracy: 0.9788 - val_loss: 0.0742 - val_accuracy: 0.9714\n",
            "Epoch 35/50\n",
            "656/656 [==============================] - 3s 5ms/step - loss: 0.0731 - accuracy: 0.9827 - val_loss: 0.0742 - val_accuracy: 0.9760\n",
            "Epoch 36/50\n",
            "656/656 [==============================] - 3s 5ms/step - loss: 0.0731 - accuracy: 0.9828 - val_loss: 0.0742 - val_accuracy: 0.9830\n",
            "Epoch 37/50\n",
            "656/656 [==============================] - 3s 5ms/step - loss: 0.0731 - accuracy: 0.9818 - val_loss: 0.0742 - val_accuracy: 0.9821\n",
            "Epoch 38/50\n",
            "656/656 [==============================] - 3s 5ms/step - loss: 0.0731 - accuracy: 0.9807 - val_loss: 0.0742 - val_accuracy: 0.9865\n",
            "Epoch 39/50\n",
            "656/656 [==============================] - 3s 5ms/step - loss: 0.0731 - accuracy: 0.9822 - val_loss: 0.0742 - val_accuracy: 0.9800\n",
            "Epoch 40/50\n",
            "656/656 [==============================] - 3s 5ms/step - loss: 0.0731 - accuracy: 0.9825 - val_loss: 0.0742 - val_accuracy: 0.9851\n",
            "Epoch 41/50\n",
            "656/656 [==============================] - 3s 5ms/step - loss: 0.0731 - accuracy: 0.9839 - val_loss: 0.0742 - val_accuracy: 0.9842\n",
            "Epoch 42/50\n",
            "656/656 [==============================] - 3s 5ms/step - loss: 0.0731 - accuracy: 0.9825 - val_loss: 0.0742 - val_accuracy: 0.9769\n",
            "Epoch 43/50\n",
            "656/656 [==============================] - 3s 5ms/step - loss: 0.0731 - accuracy: 0.9834 - val_loss: 0.0742 - val_accuracy: 0.9784\n",
            "Epoch 44/50\n",
            "656/656 [==============================] - 3s 5ms/step - loss: 0.0731 - accuracy: 0.9836 - val_loss: 0.0742 - val_accuracy: 0.9826\n",
            "Epoch 45/50\n",
            "656/656 [==============================] - 3s 5ms/step - loss: 0.0731 - accuracy: 0.9838 - val_loss: 0.0742 - val_accuracy: 0.9748\n",
            "Epoch 46/50\n",
            "656/656 [==============================] - 3s 5ms/step - loss: 0.0731 - accuracy: 0.9827 - val_loss: 0.0743 - val_accuracy: 0.9536\n",
            "Epoch 47/50\n",
            "656/656 [==============================] - 3s 5ms/step - loss: 0.0731 - accuracy: 0.9824 - val_loss: 0.0743 - val_accuracy: 0.9760\n",
            "Epoch 48/50\n",
            "656/656 [==============================] - 3s 5ms/step - loss: 0.0731 - accuracy: 0.9814 - val_loss: 0.0742 - val_accuracy: 0.9865\n",
            "Epoch 49/50\n",
            "656/656 [==============================] - 4s 5ms/step - loss: 0.0731 - accuracy: 0.9834 - val_loss: 0.0742 - val_accuracy: 0.9851\n",
            "Epoch 50/50\n",
            "656/656 [==============================] - 3s 5ms/step - loss: 0.0731 - accuracy: 0.9837 - val_loss: 0.0742 - val_accuracy: 0.9798\n"
          ]
        }
      ]
    },
    {
      "cell_type": "code",
      "source": [
        "score = model.evaluate(x_test,y_test,verbose = 0)\n",
        "y_pred = model.predict(x_test)\n",
        "print(y_pred)\n",
        "pd.DataFrame(history.history)\n",
        "plt.plot(figsize=(8,5))\n",
        "plt.grid(True)\n",
        "plt.gca().set_ylim(0,1)\n",
        "plt.show()\n",
        "plt.plot(history.history['accuracy'])\n",
        "plt.plot(history.history['val_accuracy'])\n",
        "plt.title('Model accuracy')\n",
        "plt.ylabel('accuracy')\n",
        "plt.xlabel('epoch')\n",
        "plt.legend(['train','validation'],loc='upper_left')\n",
        "plt.show()\n",
        "#plt.plot(history.history['accuracy'])\n",
        "#plt.plot(history.history['val_accuracy'])\n",
        "#plt.title('Model accuracy')\n",
        "#plt.ylabel('Accuracy')\n",
        "#plt.xlabel('Epochs')\n",
        "#plt.legend(['Train','Validation'],loc='upper_left')\n",
        "##plt.show()\n",
        "#plt.plot(history.history['loss'])\n",
        "#plt.plot(history.history['val_loss'])\n",
        "#plt.title('Model error')\n",
        "#plt.ylabel('error')\n",
        "#plt.xlabel('Epochs')\n",
        "#plt.show()"
      ],
      "metadata": {
        "colab": {
          "base_uri": "https://localhost:8080/",
          "height": 948
        },
        "id": "wdk1i04zfqRR",
        "outputId": "364deadb-f7e5-4519-9f8c-18ac2b6e77ad"
      },
      "execution_count": null,
      "outputs": [
        {
          "output_type": "stream",
          "name": "stdout",
          "text": [
            "[[0.532162   0.467838  ]\n",
            " [0.63840264 0.36159736]\n",
            " [0.3265732  0.6734268 ]\n",
            " ...\n",
            " [0.3512419  0.64875805]\n",
            " [0.584161   0.41583905]\n",
            " [0.48973355 0.5102664 ]]\n"
          ]
        },
        {
          "output_type": "display_data",
          "data": {
            "text/plain": [
              "<Figure size 432x288 with 1 Axes>"
            ],
            "image/png": "[encoded data removed]"
          },
          "metadata": {
            "needs_background": "light"
          }
        },
        {
          "output_type": "stream",
          "name": "stderr",
          "text": [
            "/usr/local/lib/python3.7/dist-packages/ipykernel_launcher.py:14: MatplotlibDeprecationWarning: Unrecognized location 'upper_left'. Falling back on 'best'; valid locations are\n",
            "\tbest\n",
            "\tupper right\n",
            "\tupper left\n",
            "\tlower left\n",
            "\tlower right\n",
            "\tright\n",
            "\tcenter left\n",
            "\tcenter right\n",
            "\tlower center\n",
            "\tupper center\n",
            "\tcenter\n",
            "This will raise an exception in 3.3.\n",
            "  \n"
          ]
        },
        {
          "output_type": "display_data",
          "data": {
            "text/plain": [
              "<Figure size 432x288 with 1 Axes>"
            ],
            "image/png": "[encoded data removed]"
          },
          "metadata": {
            "needs_background": "light"
          }
        }
      ]
    },
    {
      "cell_type": "code",
      "source": [
        "Px_test_train = 90\n",
        "Py_test_train = 50\n",
        "print(Px_test_train,Py_test_train)\n",
        "test = model.predict([[Px_test_train,Py_test_train]])\n",
        "t1 = test[0][0]\n",
        "t2 = test[0][1]\n",
        "x_1=50*cos(radians(t1))+40*cos(radians(t1+t2))\n",
        "y_1=50*sin(radians(t1))+40*sin(radians(t1+t2))\n",
        "Px=50*cos(radians(t1))+40*cos(radians(t1+t2))\n",
        "Py=50*sin(radians(t1))+40*sin(radians(t1+t2))\n",
        "print('x = ',Px,'y = ',Py)\n",
        "print(t1,t2)"
      ],
      "metadata": {
        "colab": {
          "base_uri": "https://localhost:8080/"
        },
        "id": "NC86ThuhgEfl",
        "outputId": "084fcc67-984d-4eb4-ec3c-477df0f70c36"
      },
      "execution_count": null,
      "outputs": [
        {
          "output_type": "stream",
          "name": "stdout",
          "text": [
            "90 50\n",
            "x =  89.98629256407521 y =  1.570716579355516\n",
            "1.0 0.0\n"
          ]
        }
      ]
    }
  ]
}